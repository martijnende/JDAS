{
 "cells": [
  {
   "cell_type": "code",
   "execution_count": 1,
   "id": "e9a774dd-67cc-4c8d-8bcd-f92acf02fad9",
   "metadata": {},
   "outputs": [],
   "source": [
    "# (Optional) Enable interactive plotting in Jupyter\n",
    "\n",
    "# For Jupyter notebooks\n",
    "# %matplotlib notebook\n",
    "\n",
    "# For Jupyter lab\n",
    "%matplotlib widget"
   ]
  },
  {
   "cell_type": "code",
   "execution_count": 2,
   "id": "39153ed1-8cba-4ded-8b90-4a41c604e8a1",
   "metadata": {},
   "outputs": [],
   "source": [
    "%load_ext autoreload\n",
    "%autoreload 2"
   ]
  },
  {
   "cell_type": "code",
   "execution_count": 3,
   "id": "c69f9037-e58c-4e2e-9bb3-829cda3348cf",
   "metadata": {},
   "outputs": [],
   "source": [
    "import sys\n",
    "import os\n",
    "import numpy as np\n",
    "import matplotlib.pyplot as plt\n",
    "\n",
    "cwd = os.getcwd()\n",
    "pardir = os.path.abspath(os.path.join(cwd, \"..\"))\n",
    "modeldir = os.path.abspath(os.path.join(pardir, \"models\"))\n",
    "\n",
    "if pardir not in sys.path:\n",
    "    sys.path.append(pardir)\n",
    "\n",
    "from jDAS import JDAS"
   ]
  },
  {
   "cell_type": "markdown",
   "id": "ceddd2dc-0461-4201-8334-d66c56e904fd",
   "metadata": {},
   "source": [
    "# Goal of this tutorial\n",
    "\n",
    "The basic denoising tutorial (`basic_denoising_example.ipynb`) shows how to perform basic denoising with `jDAS`. The example data used in that tutorial are obtained during the same DAS experiment as the data that was used in the training of the model, and so no retraining is needed. In this tutorial, we are going to retrain the model to obtain better accuracy on \"new\" data. In practice, retraining the model is recommended in the following scenarios:\n",
    "\n",
    "1. A new experiment was conducted (e.g. in a different location, or with different interrogator settings like the gauge length or maximum sensing distance).\n",
    "2. The conditions during one experiment strongly vary. This can be the case when new noise sources are introduced (construction works on-land, microseismic noise, etc.), or when the signal-to-noise ratio significantly changes.\n",
    "3. One particular event of interest, such as a major earthquake, occurs. In this case the model can be trained in \"single-sample mode\": instead of training on a large data set and optimising the model parameters for a (potentially) wide data range, the training is done on a very specific data range. Consequently, the _jDAS_ model will try to achieve the best denoising performance for this specific data set, at the cost of generalisation.\n",
    "\n",
    "Note that multiple models can be trained for different conditions (e.g. nighttime/daytime, on-land and submarine segments of the cable, etc.)."
   ]
  },
  {
   "cell_type": "markdown",
   "id": "f0ca5768-10cd-4f73-84dc-e9e7a9a57be3",
   "metadata": {},
   "source": [
    "# Generate new data\n",
    "\n",
    "As a simple example, we will generate some synthetic data. After corrupting these synthetics with noise (and bandpass filtering in the desired frequency band), we subsequently apply a standard pretrained model, retrain the model on new data, and apply the newly retrained model to see the difference in performance.\n",
    "\n",
    "The synthetics are generated as a superposition of sines and cosines, filtered in space to introduce some spatio-temporal waveform coherence. These synthetic data will look very different from the original DAS data, which highlights the point of retraining the model."
   ]
  },
  {
   "cell_type": "code",
   "execution_count": null,
   "id": "4c78ace1-0c0c-4683-b938-242c73c99fa9",
   "metadata": {},
   "outputs": [],
   "source": []
  }
 ],
 "metadata": {
  "kernelspec": {
   "display_name": "Python 3",
   "language": "python",
   "name": "python3"
  },
  "language_info": {
   "codemirror_mode": {
    "name": "ipython",
    "version": 3
   },
   "file_extension": ".py",
   "mimetype": "text/x-python",
   "name": "python",
   "nbconvert_exporter": "python",
   "pygments_lexer": "ipython3",
   "version": "3.8.8"
  }
 },
 "nbformat": 4,
 "nbformat_minor": 5
}
